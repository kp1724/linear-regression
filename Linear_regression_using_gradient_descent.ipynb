{
 "cells": [
  {
   "cell_type": "code",
   "execution_count": 1,
   "metadata": {},
   "outputs": [
    {
     "name": "stdout",
     "output_type": "stream",
     "text": [
      "After 1000 iterations b = 0.08893651996682016, m = 1.4777440851889796\n",
      "the coefficient of determination is 0.747855\n"
     ]
    },
    {
     "data": {
      "image/png": "[encoded data removed]",
      "text/plain": [
       "<matplotlib.figure.Figure at 0x895e9e8>"
      ]
     },
     "metadata": {},
     "output_type": "display_data"
    }
   ],
   "source": [
    "from numpy import *\n",
    "import matplotlib.pyplot as plt\n",
    "from matplotlib import style\n",
    "from statistics import mean\n",
    "style.use('ggplot')\n",
    "\n",
    "\n",
    "# y = mx + b\n",
    "# m is slope, b is y-intercept\n",
    "\n",
    "def coefficient_of_determination(Y,Yp):\n",
    "    temp=0.0\n",
    "    temp=sum(Y[i] for i in range(len(Y)))\n",
    "    temp/=(len(Y))\n",
    "    meanY=temp\n",
    "    SSR=0\n",
    "    for i in range(len(Y)):\n",
    "        SSR+=((Yp[i]-meanY)*(Yp[i]-meanY))\n",
    "    SSTO=0\n",
    "    for i in range(len(Y)):\n",
    "        SSTO+=((Y[i]-meanY)*(Y[i]-meanY))\n",
    "    return (SSR/SSTO)\n",
    "def step_gradient(b_current, m_current, points, learningRate):\n",
    "    b_gradient = 0\n",
    "    m_gradient = 0\n",
    "    xs=[points[i,0] for i in range(len(points)) ]\n",
    "    X=array(xs,dtype=float64)\n",
    "    ys=[points[i,1] for i in range(len(points)) ]\n",
    "    Y=array(ys,dtype=float64)\n",
    "    N = float(len(points))\n",
    "    b_gradient=sum(-(2/N) * (Y[i] - ((m_current * X[i]) + b_current)) for i in range(len(X)))\n",
    "    m_gradient=sum(-(2/N) * X[i] * (Y[i] - ((m_current * X[i]) + b_current)) for i in range(len(X)))\n",
    "    new_b = b_current - (learningRate * b_gradient)\n",
    "    new_m = m_current - (learningRate * m_gradient)\n",
    "    return [new_b, new_m]\n",
    "\n",
    "def gradient_descent_runner(points, starting_b, starting_m, learning_rate, num_iterations):\n",
    "    b = starting_b\n",
    "    m = starting_m\n",
    "    for i in range(num_iterations):\n",
    "        b, m = step_gradient(b, m, array(points), learning_rate)\n",
    "    return [b, m]\n",
    "\n",
    "def run():\n",
    "    points = genfromtxt(\"data.csv\", delimiter=\",\")\n",
    "    learning_rate = 0.0001\n",
    "    initial_b = 0 # initial y-intercept guess\n",
    "    initial_m = 0 # initial slope guess\n",
    "    num_iterations =1000\n",
    "    [b, m] = gradient_descent_runner(points, initial_b, initial_m, learning_rate, num_iterations)\n",
    "    print (\"After {0} iterations b = {1}, m = {2}\".format(num_iterations, b, m))\n",
    "    x = [points[i,0] for i in range(0, len(points))]\n",
    "    y = [points[i,1] for i in range(0, len(points))]\n",
    "    X=array(x,dtype=float64)\n",
    "    Y=array(y,dtype=float64)\n",
    "    regression_line = [(m*x)+b for x in X]\n",
    "    regressionline=array(regression_line,dtype=float64)\n",
    "    r_squared = coefficient_of_determination(Y,regressionline)\n",
    "    print(\"the coefficient of determination is %f\" %r_squared)\n",
    "    plt.scatter(X,Y,color='#003F72',label='data')\n",
    "    plt.plot(X, regressionline, label='regression line')\n",
    "    plt.legend(loc=4)\n",
    "    plt.ylabel('opening prices')\n",
    "    plt.xlabel('Month')\n",
    "    plt.show()\n",
    "\n",
    "if __name__ == '__main__':\n",
    "    run()"
   ]
  },
  {
   "cell_type": "code",
   "execution_count": null,
   "metadata": {},
   "outputs": [],
   "source": []
  }
 ],
 "metadata": {
  "kernelspec": {
   "display_name": "Python 3",
   "language": "python",
   "name": "python3"
  },
  "language_info": {
   "codemirror_mode": {
    "name": "ipython",
    "version": 3
   },
   "file_extension": ".py",
   "mimetype": "text/x-python",
   "name": "python",
   "nbconvert_exporter": "python",
   "pygments_lexer": "ipython3",
   "version": "3.6.3"
  }
 },
 "nbformat": 4,
 "nbformat_minor": 2
}
